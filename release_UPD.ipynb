{
  "nbformat": 4,
  "nbformat_minor": 0,
  "metadata": {
    "kernelspec": {
      "display_name": "Python 3",
      "language": "python",
      "name": "python3"
    },
    "language_info": {
      "codemirror_mode": {
        "name": "ipython",
        "version": 3
      },
      "file_extension": ".py",
      "mimetype": "text/x-python",
      "name": "python",
      "nbconvert_exporter": "python",
      "pygments_lexer": "ipython3",
      "version": "3.8.3"
    },
    "colab": {
      "name": "Копия блокнота \"Copy of Копия блокнота \"Lab_6 (NO 4th).ipynb\"\"\"",
      "provenance": [],
      "collapsed_sections": []
    }
  },
  "cells": [
    {
      "cell_type": "code",
      "metadata": {
        "id": "48pTfqdJGVlK"
      },
      "source": [
        "import numpy as np\n",
        "import itertools"
      ],
      "execution_count": 15,
      "outputs": []
    },
    {
      "cell_type": "code",
      "metadata": {
        "id": "Tzz6Nb2IGVlP"
      },
      "source": [
        "class ConvCode:\n",
        "    #инициализация\n",
        "    def __init__(self, n, m):\n",
        "        self.n = n\n",
        "        self.m = m\n",
        "        self.empty_diagram = []\n",
        "        self.input_one = {'input': None, 'output': None}\n",
        "        self.input_zero = {'input': None, 'output': None}\n",
        "        self.polinoms = self.gener_polynoms()\n",
        "    \n",
        "\n",
        "    #создание порождающих векторов\n",
        "    def gener_polynoms(self):\n",
        "        arr = []\n",
        "        rep = self.m + 1 - 2\n",
        "        for item in itertools.product([1,0], repeat=rep):\n",
        "            if sum(item) == (self.m-2):\n",
        "                arr.append(item)\n",
        "                q = np.array(list(itertools.chain.from_iterable(arr))).reshape((self.m-1),len(arr))\n",
        "\n",
        "        polynoms_mtrx = np.zeros((self.n,(self.m+1)))\n",
        "        for i in range(self.n):\n",
        "            polynoms_mtrx[i][0] = 1\n",
        "            polynoms_mtrx[i][-1] = 1\n",
        "            polynoms_mtrx[i][1:self.m] = q[i]\n",
        "    \n",
        "        return polynoms_mtrx\n",
        "        \n",
        "\n",
        "    #кодирование сообщения с помощью диаграммы состояний\n",
        "    def ncd(self, ms):\n",
        "        ncd_ms = []\n",
        "        cur_peak = self.empty_diagram[0]\n",
        "        for i in ms:\n",
        "            i = int(i)\n",
        "            if i:\n",
        "                cur_peak, res = cur_peak.get('ones_list')\n",
        "            else:\n",
        "                cur_peak, res = cur_peak.get('zeros_list')\n",
        "\n",
        "            ncd_ms.append(res)\n",
        "        return np.concatenate(ncd_ms)\n",
        "    \n",
        "\n",
        "    #декодирование сообщения с помощью диаграммы состояний\n",
        "    def dcd(self, ms):\n",
        "        dcd_ms = []\n",
        "        ms_trans = ms.reshape(-1, self.n)\n",
        "        cur_peak = self.empty_diagram[0]\n",
        "        for i in ms_trans:\n",
        "            comparison_one = cur_peak.get('ones_list')[1]==i\n",
        "            comparison_zero = cur_peak.get('zeros_list')[1]==i\n",
        "            if comparison_one.all():\n",
        "                dcd_ms.append(1)\n",
        "                cur_peak = cur_peak.get('ones_list')[0]     \n",
        "            elif comparison_zero.all():\n",
        "                dcd_ms.append(0)\n",
        "                cur_peak = cur_peak.get('zeros_list')[0]\n",
        "        return np.array(dcd_ms)\n",
        "        \n",
        "\n",
        "    #создание диаграммы состояний\n",
        "    def state_dgr(self):\n",
        "      start_node = {\n",
        "          'error': None,\n",
        "          'time_error': None,\n",
        "          'path': [],\n",
        "          'time_path': [],\n",
        "          'ones_list': [],\n",
        "          'zeros_list': []\n",
        "      }\n",
        "\n",
        "      self.empty_diagram.append(start_node)\n",
        "\n",
        "      index_node = '0' * self.m\n",
        "\n",
        "      empty_nodes = [(index_node, start_node)]\n",
        "\n",
        "      nodes = {index_node: start_node}\n",
        "\n",
        "      for index, node in empty_nodes:\n",
        "        index_ones = '1' + index[:-1]\n",
        "\n",
        "        value = np.array([np.sum(i * np.array(list(index_ones + index[-1]), dtype=int)) % 2 for i in self.polinoms])\n",
        "\n",
        "        if index_ones in nodes.keys():\n",
        "          node['ones_list'] = [nodes.get(index_ones), value]\n",
        "        else:\n",
        "          node['ones_list'] = [{\n",
        "              'error': None,\n",
        "              'time_error': None,\n",
        "              'path': [],\n",
        "              'time_path': [],\n",
        "              'ones_list': {},\n",
        "              'zeros_list': {}\n",
        "          }, value]\n",
        "          empty_nodes.append((index_ones, node.get('ones_list')[0]))\n",
        "          nodes[index_ones] = node.get('ones_list')[0]\n",
        "\n",
        "          self.empty_diagram.append(node.get('ones_list')[0])\n",
        "\n",
        "        index_zeros = '0' + index[:-1]\n",
        "\n",
        "        value = np.array([np.sum(i * np.array(list(index_zeros + index[-1]), dtype=int)) % 2 for i in self.polinoms])\n",
        "\n",
        "        if index_zeros in nodes.keys():\n",
        "          node['zeros_list'] = [nodes.get(index_zeros), value]\n",
        "        else:\n",
        "          node['zeros_list'] = [{\n",
        "              'error': None,\n",
        "              'time_error': None,\n",
        "              'path': [],\n",
        "              'time_path': [],\n",
        "              'ones_list': {},\n",
        "              'zeros_list': {}\n",
        "          }, value]\n",
        "          empty_nodes.append((index_zeros, node.get('zeros_list')[0]))\n",
        "          nodes[index_zeros] = node.get('zeros_list')[0]\n",
        "\n",
        "          self.empty_diagram.append(node.get('zeros_list')[0])\n",
        "\n",
        "\n",
        "    #алгоритм Витерби\n",
        "    def dcd_v(self, mess, w_size):\n",
        "          out_message = []\n",
        "\n",
        "          message = [mess[i * self.n: i * self.n + self.n] for i in range(int(len(mess) / self.n))]\n",
        "\n",
        "          self.empty_diagram[0]['time_error'] = 0\n",
        "          self.empty_diagram[0]['error'] = self.empty_diagram[0].get('time_error')\n",
        "          self.empty_diagram[0]['path'] = self.empty_diagram[0].get('time_path')\n",
        "          self.empty_diagram[0]['time_error'] = None\n",
        "          self.empty_diagram[0]['time_path'] = []\n",
        "\n",
        "          for index in range(len(message)):\n",
        "              for node in self.empty_diagram:\n",
        "\n",
        "                  if node.get('error') is not None:\n",
        "\n",
        "                      current_node, value = node.get('zeros_list')\n",
        "\n",
        "                      new_err = int(node.get('error') + np.sum((message[index] + value) % 2))\n",
        "\n",
        "                      if current_node.get('time_error') is not None and current_node.get('time_error') > new_err or current_node.get('time_error') is None:\n",
        "                          current_node['time_error'] = new_err\n",
        "                          current_node['time_path'] = [0] + node.get('path')\n",
        "                      elif current_node.get('time_error') == new_err:\n",
        "                          current_node['time_path'] = [current_node['time_path'][i] if current_node['time_path'][i] == [0] + node.get('path') else None for i in range(len(current_node['time_path']))]\n",
        "\n",
        "                      current_node, value = node.get('ones_list')\n",
        "\n",
        "                      new_err = int(node.get('error') + np.sum((message[index] + value) % 2))\n",
        "\n",
        "                      if current_node.get('time_error') is not None and current_node.get('time_error') > new_err or current_node.get('time_error') is None:\n",
        "                          current_node['time_error'] = new_err\n",
        "                          current_node['time_path'] = [1] + node.get('path')\n",
        "                      elif current_node.get('time_error') == new_err:\n",
        "                          current_node['time_path'] = [current_node['time_path'][i] if current_node['time_path'][i] == [0] + node.get('path') else None for i in range(len(current_node['time_path']))]\n",
        "\n",
        "              for element in self.empty_diagram:\n",
        "                    element['error'] = element.get('time_error')\n",
        "                    element['path'] = element.get('time_path')\n",
        "                    element['time_error'] = None\n",
        "                    element['time_path'] = []\n",
        "\n",
        "              if len(self.empty_diagram[0].get('path')) == w_size:\n",
        "                  minimal_error_node = [s for s in self.empty_diagram if s.get('error') is not None]\n",
        "                  temporary_list = [i.get('error') for i in minimal_error_node]\n",
        "                  minimal_error_node = minimal_error_node[temporary_list.index(min(temporary_list))]\n",
        "                  position = minimal_error_node.get('path')[-1]\n",
        "                  if position is not None:\n",
        "                      out_message.append(position)\n",
        "                  else:\n",
        "                      out_message.append(0)\n",
        "\n",
        "          minimal_error_node = [s for s in self.empty_diagram if s.get('error') is not None]\n",
        "          temporary_list = [i.get('error') for i in minimal_error_node]\n",
        "          minimal_error_node = minimal_error_node[temporary_list.index(min(temporary_list))]\n",
        "          minimal_path = minimal_error_node.get('path').copy()\n",
        "          minimal_path.reverse()\n",
        "          out_message.extend(minimal_path)\n",
        "\n",
        "          for element in self.empty_diagram:\n",
        "              element['path'] = []\n",
        "              element['time_path'] = []\n",
        "              element['error'] = None\n",
        "              element['time_error'] = None\n",
        "\n",
        "          return np.array(out_message)"
      ],
      "execution_count": 16,
      "outputs": []
    },
    {
      "cell_type": "code",
      "metadata": {
        "id": "PVyeRot1Kqsj",
        "colab": {
          "base_uri": "https://localhost:8080/"
        },
        "outputId": "7b1aedbc-f0a5-44b5-e9d4-aaf8f5f4d8fd"
      },
      "source": [
        "'''ЗАДАНИЕ #1'''\r\n",
        "\r\n",
        "XX = ConvCode(2,3)\r\n",
        "XX.state_dgr()\r\n",
        "print(f'Пораждающие вектора\\n {XX.gener_polynoms()}')"
      ],
      "execution_count": 17,
      "outputs": [
        {
          "output_type": "stream",
          "text": [
            "Пораждающие вектора\n",
            " [[1. 1. 0. 1.]\n",
            " [1. 0. 1. 1.]]\n"
          ],
          "name": "stdout"
        }
      ]
    },
    {
      "cell_type": "code",
      "metadata": {
        "colab": {
          "base_uri": "https://localhost:8080/"
        },
        "id": "zT0fv8ZOz8I1",
        "outputId": "033e4d83-d45c-478e-9e23-f4db7a1c1307"
      },
      "source": [
        "'''ЗАДАНИЕ #2'''\r\n",
        "\r\n",
        "print(f'Ввели {np.array([1, 0, 1, 1, 0])}\\nРезультат кодирования {XX.ncd( np.array([1, 0, 1, 1, 0]))}')\r\n",
        "print(f'Результат декодирования {XX.dcd(XX.ncd( np.array([1, 0, 1, 1, 0])))}')"
      ],
      "execution_count": 18,
      "outputs": [
        {
          "output_type": "stream",
          "text": [
            "Ввели [1 0 1 1 0]\n",
            "Результат кодирования [1. 1. 1. 0. 1. 0. 1. 0. 1. 1.]\n",
            "Результат декодирования [1 0 1 1 0]\n"
          ],
          "name": "stdout"
        }
      ]
    },
    {
      "cell_type": "code",
      "metadata": {
        "colab": {
          "base_uri": "https://localhost:8080/"
        },
        "id": "nZayPcGL_Iac",
        "outputId": "568e8702-46ae-493e-ebbf-e45dc8bc4abd"
      },
      "source": [
        "'''ЗАДАНИЕ #3'''\r\n",
        "\r\n",
        "print(f'Ввели {np.array([1, 1, 1, 0, 1, 0, 1, 0, 1, 1])}\\nРезультат декодирования {XX.dcd(np.array([1, 1, 1, 0, 1, 0, 1, 0, 1, 1]))}')\r\n",
        "print(f'Результат кодирования {XX.ncd(XX.dcd(np.array([1, 1, 1, 0, 1, 0, 1, 0, 1, 1])))}')"
      ],
      "execution_count": 19,
      "outputs": [
        {
          "output_type": "stream",
          "text": [
            "Ввели [1 1 1 0 1 0 1 0 1 1]\n",
            "Результат декодирования [1 0 1 1 0]\n",
            "Результат кодирования [1. 1. 1. 0. 1. 0. 1. 0. 1. 1.]\n"
          ],
          "name": "stdout"
        }
      ]
    },
    {
      "cell_type": "code",
      "metadata": {
        "colab": {
          "base_uri": "https://localhost:8080/"
        },
        "id": "9-uJ6k_AfBEt",
        "outputId": "56af53b9-b68e-4aaa-a898-cb0533e0364b"
      },
      "source": [
        "'''ЗАДАНИЕ #4'''\r\n",
        "\r\n",
        "#задаём размер окна бОльшим, чем размер ожидаемого результата декодирования\r\n",
        "print(f'Ввели {np.array([1, 1, 0, 0, 0, 0, 0, 0, 0, 0])}\\nРезультат декодирования (Витерби) {XX.dcd_v(np.array([1, 1, 0, 0, 0, 0, 0, 0, 0, 0]), 6)}')"
      ],
      "execution_count": 20,
      "outputs": [
        {
          "output_type": "stream",
          "text": [
            "Ввели [1 1 0 0 0 0 0 0 0 0]\n",
            "Результат декодирования (Витерби) [0 0 0 0 0]\n"
          ],
          "name": "stdout"
        }
      ]
    },
    {
      "cell_type": "code",
      "metadata": {
        "colab": {
          "base_uri": "https://localhost:8080/"
        },
        "id": "AANJk2xZw6Nu",
        "outputId": "668ce90d-6283-4147-dff3-25f32a946561"
      },
      "source": [
        "'''ЗАДАНИЕ #4 (с ошибкой)'''\r\n",
        "\r\n",
        "#задаём размер окна бОльшим, чем размер ожидаемого результата декодирования\r\n",
        "print(f'Ввели {np.array([1, 1, 0, 0, 0, 0, 0, 0, 1, 0])}\\nРезультат декодирования (Витерби) {XX.dcd_v(np.array([1, 1, 0, 0, 0, 0, 0, 0, 1, 0]), 6)}')"
      ],
      "execution_count": 21,
      "outputs": [
        {
          "output_type": "stream",
          "text": [
            "Ввели [1 1 0 0 0 0 0 0 1 0]\n",
            "Результат декодирования (Витерби) [1 1 1 0 0]\n"
          ],
          "name": "stdout"
        }
      ]
    }
  ]
}